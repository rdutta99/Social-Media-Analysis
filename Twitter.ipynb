{
 "cells": [
  {
   "cell_type": "code",
   "execution_count": 5,
   "metadata": {},
   "outputs": [],
   "source": [
    "import GetOldTweets3 as got\n",
    "import json\n",
    "import re\n",
    "import requests\n",
    "import csv"
   ]
  },
  {
   "cell_type": "code",
   "execution_count": 7,
   "metadata": {},
   "outputs": [
    {
     "name": "stdout",
     "output_type": "stream",
     "text": [
      "k\n",
      "239\n"
     ]
    }
   ],
   "source": [
    "csv_columns=[\"Username\",\"Name\",\"Date\",\"Text\", \"Retweet\", \"Favorite\",\"Subjectivity\"]\n",
    "# with open(\"Twitter_F.csv\", 'a') as csvfile:\n",
    "#     writer = csv.DictWriter(csvfile, fieldnames=csv_columns)\n",
    "#     writer.writeheader()\n",
    "tweetCriteria = got.manager.TweetCriteria().setQuerySearch('USEReady').setSince(\"2019-01-01\")\n",
    "print(\"k\")\n",
    "ctr=0\n",
    "for tweet in got.manager.TweetManager.getTweets(tweetCriteria):\n",
    "    csv_columns=[\"Username\",\"Name\",\"Date\",\"Text\", \"Retweet\", \"Favorite\",\"Subjectivity\"]\n",
    "    parsed_tweet={}\n",
    "    ctr+=1\n",
    "    parsed_tweet['Username']=tweet.username\n",
    "    #print(\"ok\")\n",
    "    parsed_tweet['Name']=\"USEReady\"\n",
    "    parsed_tweet['Date']=datetime.timestamp(tweet.date)\n",
    "    parsed_tweet['Text']=tweet.text\n",
    "    parsed_tweet['Retweet']=tweet.retweets\n",
    "    parsed_tweet['Favorite']=tweet.favorites\n",
    "    obj=TwitterClient()\n",
    "    parsed_tweet['Subjectivity']=obj.get_tweet_sentiment(tweet.text)\n",
    "    #print(\"k\")\n",
    "    with open(\"Twitter_F.csv\", 'a') as csvfile:\n",
    "        writer = csv.DictWriter(csvfile, fieldnames=csv_columns)\n",
    "        writer.writerow(parsed_tweet)\n",
    "print(ctr)"
   ]
  },
  {
   "cell_type": "code",
   "execution_count": 3,
   "metadata": {},
   "outputs": [],
   "source": [
    "from tweepy.streaming import StreamListener\n",
    "from tweepy import OAuthHandler\n",
    "import tweepy\n",
    "import pymongo,json\n",
    "from textblob import TextBlob\n",
    "import re\n",
    "from datetime import datetime\n",
    "class TwitterClient(object): \n",
    "    \n",
    "    def clean_tweet(self, tweet): \n",
    "        return ' '.join(re.sub(\"(@[A-Za-z0-9]+)|([^0-9A-Za-z \\t])|(\\w+:\\/\\/\\S+)\", \" \", tweet).split()) \n",
    "    def get_tweet_sentiment(self, tweet):\n",
    "        analysis = TextBlob(self.clean_tweet(tweet))\n",
    "        return analysis.sentiment.subjectivity\n",
    "            "
   ]
  },
  {
   "cell_type": "code",
   "execution_count": 8,
   "metadata": {},
   "outputs": [],
   "source": [
    "access_token = \"919578385562472448-ZTqEtujcyhZXNU1ilx8DIZTYGZ0nnYO\"\n",
    "access_token_secret = \"Fw4lGDoDzLyQWouEi2EqGFqxrGyaWih3AthDzbzI26ioR\"\n",
    "consumer_key = \"SLE0ua1H4IcTQIbFrBPCvxIKy\"\n",
    "consumer_secret = \"zQK6DQHQoB14rKbzwT3hfFbnazDvpnF5jcxcDztTpWRqw8gl8q\""
   ]
  },
  {
   "cell_type": "code",
   "execution_count": null,
   "metadata": {
    "scrolled": false
   },
   "outputs": [],
   "source": [
    "class TwitterClient(object): \n",
    "    def __init__(self): \n",
    "        try: \n",
    "            # create OAuthHandler object \n",
    "            self.auth = OAuthHandler(consumer_key, consumer_secret) \n",
    "            # set access token and secret \n",
    "            self.auth.set_access_token(access_token, access_token_secret) \n",
    "            # create tweepy API object to fetch tweets \n",
    "            self.api = tweepy.API(self.auth,wait_on_rate_limit=True,retry_count=100) \n",
    "        except: \n",
    "            print(\"Error: Authentication Failed\") \n",
    "  \n",
    "    def clean_tweet(self, tweet): \n",
    "        ''' \n",
    "        Utility function to clean tweet text by removing links, special characters \n",
    "        using simple regex statements. \n",
    "        '''\n",
    "        return ' '.join(re.sub(\"(@[A-Za-z0-9]+)|([^0-9A-Za-z \\t])|(\\w+:\\/\\/\\S+)\", \" \", tweet).split()) \n",
    "  \n",
    "    def get_tweet_sentiment(self, tweet):  \n",
    "        analysis = TextBlob(self.clean_tweet(tweet)) \n",
    "        # set sentiment \n",
    "        if analysis.sentiment.polarity > 0: \n",
    "            return 'positive'\n",
    "        elif analysis.sentiment.polarity == 0: \n",
    "            return 'neutral'\n",
    "        else: \n",
    "            return 'negative'\n",
    "  \n",
    "    def get_tweets(self, query, count = 10): \n",
    "        ''' \n",
    "        Main function to fetch tweets and parse them. \n",
    "        ''' \n",
    "        tweets = [] \n",
    "  \n",
    "        try: \n",
    "            fetched_tweets = self.api.search(q = query, count = count, lang=\"en\")\n",
    "            #print(fetched_tweets)\n",
    "            for tweet in fetched_tweets:\n",
    "                parsed_tweet = {}\n",
    "                date=tweet.created_at\n",
    "                parsed_tweet['date']= datetime.timestamp(date)\n",
    "                data=json.dumps(tweet._json)\n",
    "                tweet=json.loads(data)\n",
    "                #print(tweet)\n",
    "                parsed_tweet['sname']= tweet[\"user\"][\"name\"]\n",
    "                parsed_tweet['text']=tweet[\"full_text\"]\n",
    "                parsed_tweet['retweet_count']=tweet[\"retweet_count\"]\n",
    "                parsed_tweet['favorite_count']=tweet[\"favorite_count\"]\n",
    "                print(parsed_tweet)\n",
    "                with open('data.json', 'a') as outfile:\n",
    "                    json.dump(parsed_tweet, outfile)\n",
    "#             return tweets \n",
    "  \n",
    "        except tweepy.TweepError as e: \n",
    "            # print error (if any) \n",
    "            print(\"Error : \" + str(e)) \n",
    "api = TwitterClient() \n",
    "tweets = api.get_tweets(query = 'TV series', count = 100)"
   ]
  },
  {
   "cell_type": "code",
   "execution_count": 1,
   "metadata": {},
   "outputs": [],
   "source": [
    "import pandas as pd\n",
    "import seaborn as sns\n",
    "import matplotlib.pyplot as plt\n",
    "import numpy as np"
   ]
  },
  {
   "cell_type": "code",
   "execution_count": 2,
   "metadata": {},
   "outputs": [
    {
     "data": {
      "text/html": [
       "<div>\n",
       "<style scoped>\n",
       "    .dataframe tbody tr th:only-of-type {\n",
       "        vertical-align: middle;\n",
       "    }\n",
       "\n",
       "    .dataframe tbody tr th {\n",
       "        vertical-align: top;\n",
       "    }\n",
       "\n",
       "    .dataframe thead th {\n",
       "        text-align: right;\n",
       "    }\n",
       "</style>\n",
       "<table border=\"1\" class=\"dataframe\">\n",
       "  <thead>\n",
       "    <tr style=\"text-align: right;\">\n",
       "      <th></th>\n",
       "      <th>username</th>\n",
       "      <th>date</th>\n",
       "      <th>text</th>\n",
       "      <th>retweet</th>\n",
       "      <th>favorite</th>\n",
       "      <th>subjectivity</th>\n",
       "    </tr>\n",
       "  </thead>\n",
       "  <tbody>\n",
       "    <tr>\n",
       "      <th>0</th>\n",
       "      <td>MarkBradbourne</td>\n",
       "      <td>2020-05-22 21:29:00</td>\n",
       "      <td>Next week @USEReadyInc is presenting a webinar...</td>\n",
       "      <td>0</td>\n",
       "      <td>0</td>\n",
       "      <td>0.000</td>\n",
       "    </tr>\n",
       "    <tr>\n",
       "      <th>1</th>\n",
       "      <td>USEReadyInc</td>\n",
       "      <td>2020-05-22 20:43:49</td>\n",
       "      <td>Join @UdayaHegde CEO, USEReady and @UR_CHIEFOF...</td>\n",
       "      <td>0</td>\n",
       "      <td>0</td>\n",
       "      <td>0.500</td>\n",
       "    </tr>\n",
       "    <tr>\n",
       "      <th>2</th>\n",
       "      <td>USEReadyInc</td>\n",
       "      <td>2020-05-22 12:30:43</td>\n",
       "      <td>Us too, what times may come!!</td>\n",
       "      <td>0</td>\n",
       "      <td>0</td>\n",
       "      <td>0.000</td>\n",
       "    </tr>\n",
       "    <tr>\n",
       "      <th>3</th>\n",
       "      <td>USEReadyInc</td>\n",
       "      <td>2020-05-22 12:25:42</td>\n",
       "      <td>Kudos @Ajenstat and the entire #DataPeople #Ta...</td>\n",
       "      <td>0</td>\n",
       "      <td>0</td>\n",
       "      <td>0.625</td>\n",
       "    </tr>\n",
       "    <tr>\n",
       "      <th>4</th>\n",
       "      <td>USEReadyInc</td>\n",
       "      <td>2020-05-21 19:39:49</td>\n",
       "      <td>In collaboration with #Tableau on a #live #web...</td>\n",
       "      <td>4</td>\n",
       "      <td>4</td>\n",
       "      <td>0.500</td>\n",
       "    </tr>\n",
       "  </tbody>\n",
       "</table>\n",
       "</div>"
      ],
      "text/plain": [
       "         username                 date  \\\n",
       "0  MarkBradbourne  2020-05-22 21:29:00   \n",
       "1     USEReadyInc  2020-05-22 20:43:49   \n",
       "2     USEReadyInc  2020-05-22 12:30:43   \n",
       "3     USEReadyInc  2020-05-22 12:25:42   \n",
       "4     USEReadyInc  2020-05-21 19:39:49   \n",
       "\n",
       "                                                text  retweet  favorite  \\\n",
       "0  Next week @USEReadyInc is presenting a webinar...        0         0   \n",
       "1  Join @UdayaHegde CEO, USEReady and @UR_CHIEFOF...        0         0   \n",
       "2                      Us too, what times may come!!        0         0   \n",
       "3  Kudos @Ajenstat and the entire #DataPeople #Ta...        0         0   \n",
       "4  In collaboration with #Tableau on a #live #web...        4         4   \n",
       "\n",
       "   subjectivity  \n",
       "0         0.000  \n",
       "1         0.500  \n",
       "2         0.000  \n",
       "3         0.625  \n",
       "4         0.500  "
      ]
     },
     "execution_count": 2,
     "metadata": {},
     "output_type": "execute_result"
    }
   ],
   "source": [
    "df=pd.read_csv(\"Useready.csv\",index_col=False)\n",
    "df.head()"
   ]
  },
  {
   "cell_type": "code",
   "execution_count": 9,
   "metadata": {},
   "outputs": [
    {
     "data": {
      "text/html": [
       "<div>\n",
       "<style scoped>\n",
       "    .dataframe tbody tr th:only-of-type {\n",
       "        vertical-align: middle;\n",
       "    }\n",
       "\n",
       "    .dataframe tbody tr th {\n",
       "        vertical-align: top;\n",
       "    }\n",
       "\n",
       "    .dataframe thead th {\n",
       "        text-align: right;\n",
       "    }\n",
       "</style>\n",
       "<table border=\"1\" class=\"dataframe\">\n",
       "  <thead>\n",
       "    <tr style=\"text-align: right;\">\n",
       "      <th></th>\n",
       "      <th>Year</th>\n",
       "      <th>retweet</th>\n",
       "      <th>favorite</th>\n",
       "      <th>subjectivity</th>\n",
       "    </tr>\n",
       "  </thead>\n",
       "  <tbody>\n",
       "    <tr>\n",
       "      <th>0</th>\n",
       "      <td>2019</td>\n",
       "      <td>62</td>\n",
       "      <td>544</td>\n",
       "      <td>343.913018</td>\n",
       "    </tr>\n",
       "    <tr>\n",
       "      <th>1</th>\n",
       "      <td>2020</td>\n",
       "      <td>55</td>\n",
       "      <td>210</td>\n",
       "      <td>69.637368</td>\n",
       "    </tr>\n",
       "  </tbody>\n",
       "</table>\n",
       "</div>"
      ],
      "text/plain": [
       "   Year  retweet  favorite  subjectivity\n",
       "0  2019       62       544    343.913018\n",
       "1  2020       55       210     69.637368"
      ]
     },
     "execution_count": 9,
     "metadata": {},
     "output_type": "execute_result"
    }
   ],
   "source": [
    "df[\"Year\"]=pd.DatetimeIndex(df[\"date\"]).year\n",
    "df1=df.groupby(\"Year\",as_index=False).sum()\n",
    "df1"
   ]
  },
  {
   "cell_type": "code",
   "execution_count": 10,
   "metadata": {},
   "outputs": [
    {
     "name": "stderr",
     "output_type": "stream",
     "text": [
      "C:\\Users\\Ritesh Dutta\\Anaconda3\\lib\\site-packages\\seaborn\\axisgrid.py:230: UserWarning: The `size` paramter has been renamed to `height`; please update your code.\n",
      "  warnings.warn(msg, UserWarning)\n"
     ]
    },
    {
     "data": {
      "image/png": "[encoded data removed]",
      "text/plain": [
       "<Figure size 440x432 with 1 Axes>"
      ]
     },
     "metadata": {},
     "output_type": "display_data"
    }
   ],
   "source": [
    "sns.set_style(\"whitegrid\");\n",
    "sns.FacetGrid(df1, size=6) \\\n",
    "   .map(plt.scatter, \"Year\", \"favorite\") \\\n",
    "   .add_legend();\n",
    "plt.show();"
   ]
  },
  {
   "cell_type": "code",
   "execution_count": 2,
   "metadata": {},
   "outputs": [
    {
     "data": {
      "text/html": [
       "<div>\n",
       "<style scoped>\n",
       "    .dataframe tbody tr th:only-of-type {\n",
       "        vertical-align: middle;\n",
       "    }\n",
       "\n",
       "    .dataframe tbody tr th {\n",
       "        vertical-align: top;\n",
       "    }\n",
       "\n",
       "    .dataframe thead th {\n",
       "        text-align: right;\n",
       "    }\n",
       "</style>\n",
       "<table border=\"1\" class=\"dataframe\">\n",
       "  <thead>\n",
       "    <tr style=\"text-align: right;\">\n",
       "      <th></th>\n",
       "      <th>username</th>\n",
       "      <th>date</th>\n",
       "      <th>text</th>\n",
       "      <th>retweet</th>\n",
       "      <th>favorite</th>\n",
       "      <th>subjectivity</th>\n",
       "      <th>name</th>\n",
       "    </tr>\n",
       "  </thead>\n",
       "  <tbody>\n",
       "    <tr>\n",
       "      <th>0</th>\n",
       "      <td>interworks</td>\n",
       "      <td>22-05-2020 23:00</td>\n",
       "      <td>If you're adept at #Tableau, you've likely mas...</td>\n",
       "      <td>0</td>\n",
       "      <td>0</td>\n",
       "      <td>0.800</td>\n",
       "      <td>Interworks</td>\n",
       "    </tr>\n",
       "    <tr>\n",
       "      <th>1</th>\n",
       "      <td>InterWorksEU</td>\n",
       "      <td>22-05-2020 20:31</td>\n",
       "      <td>Now on the blog, find out how to create custom...</td>\n",
       "      <td>0</td>\n",
       "      <td>0</td>\n",
       "      <td>0.500</td>\n",
       "      <td>Interworks</td>\n",
       "    </tr>\n",
       "    <tr>\n",
       "      <th>2</th>\n",
       "      <td>interworks</td>\n",
       "      <td>22-05-2020 20:00</td>\n",
       "      <td>We're thrilled to team up with our partners ov...</td>\n",
       "      <td>0</td>\n",
       "      <td>1</td>\n",
       "      <td>0.575</td>\n",
       "      <td>Interworks</td>\n",
       "    </tr>\n",
       "    <tr>\n",
       "      <th>3</th>\n",
       "      <td>InterWorksEU</td>\n",
       "      <td>22-05-2020 16:31</td>\n",
       "      <td>Now that @tableau and @salesforce have teamed ...</td>\n",
       "      <td>0</td>\n",
       "      <td>0</td>\n",
       "      <td>0.650</td>\n",
       "      <td>Interworks</td>\n",
       "    </tr>\n",
       "    <tr>\n",
       "      <th>4</th>\n",
       "      <td>DangerandDread</td>\n",
       "      <td>22-05-2020 15:59</td>\n",
       "      <td>If I explained the interworks of the world Del...</td>\n",
       "      <td>0</td>\n",
       "      <td>2</td>\n",
       "      <td>0.750</td>\n",
       "      <td>Interworks</td>\n",
       "    </tr>\n",
       "  </tbody>\n",
       "</table>\n",
       "</div>"
      ],
      "text/plain": [
       "         username              date  \\\n",
       "0      interworks  22-05-2020 23:00   \n",
       "1    InterWorksEU  22-05-2020 20:31   \n",
       "2      interworks  22-05-2020 20:00   \n",
       "3    InterWorksEU  22-05-2020 16:31   \n",
       "4  DangerandDread  22-05-2020 15:59   \n",
       "\n",
       "                                                text  retweet  favorite  \\\n",
       "0  If you're adept at #Tableau, you've likely mas...        0         0   \n",
       "1  Now on the blog, find out how to create custom...        0         0   \n",
       "2  We're thrilled to team up with our partners ov...        0         1   \n",
       "3  Now that @tableau and @salesforce have teamed ...        0         0   \n",
       "4  If I explained the interworks of the world Del...        0         2   \n",
       "\n",
       "   subjectivity        name  \n",
       "0         0.800  Interworks  \n",
       "1         0.500  Interworks  \n",
       "2         0.575  Interworks  \n",
       "3         0.650  Interworks  \n",
       "4         0.750  Interworks  "
      ]
     },
     "execution_count": 2,
     "metadata": {},
     "output_type": "execute_result"
    }
   ],
   "source": [
    "df=pd.read_csv(\"tweetf2019.csv\",index_col=False)\n",
    "df.head()"
   ]
  },
  {
   "cell_type": "code",
   "execution_count": 3,
   "metadata": {},
   "outputs": [
    {
     "data": {
      "text/html": [
       "<div>\n",
       "<style scoped>\n",
       "    .dataframe tbody tr th:only-of-type {\n",
       "        vertical-align: middle;\n",
       "    }\n",
       "\n",
       "    .dataframe tbody tr th {\n",
       "        vertical-align: top;\n",
       "    }\n",
       "\n",
       "    .dataframe thead th {\n",
       "        text-align: right;\n",
       "    }\n",
       "</style>\n",
       "<table border=\"1\" class=\"dataframe\">\n",
       "  <thead>\n",
       "    <tr style=\"text-align: right;\">\n",
       "      <th></th>\n",
       "      <th>username</th>\n",
       "      <th>date</th>\n",
       "      <th>text</th>\n",
       "      <th>retweet</th>\n",
       "      <th>favorite</th>\n",
       "      <th>subjectivity</th>\n",
       "    </tr>\n",
       "    <tr>\n",
       "      <th>name</th>\n",
       "      <th></th>\n",
       "      <th></th>\n",
       "      <th></th>\n",
       "      <th></th>\n",
       "      <th></th>\n",
       "      <th></th>\n",
       "    </tr>\n",
       "  </thead>\n",
       "  <tbody>\n",
       "    <tr>\n",
       "      <th>Interworks</th>\n",
       "      <td>3999</td>\n",
       "      <td>3999</td>\n",
       "      <td>3999</td>\n",
       "      <td>3999</td>\n",
       "      <td>3999</td>\n",
       "      <td>3999</td>\n",
       "    </tr>\n",
       "    <tr>\n",
       "      <th>Slalom</th>\n",
       "      <td>7857</td>\n",
       "      <td>7857</td>\n",
       "      <td>7856</td>\n",
       "      <td>7857</td>\n",
       "      <td>7857</td>\n",
       "      <td>7857</td>\n",
       "    </tr>\n",
       "    <tr>\n",
       "      <th>USEReady</th>\n",
       "      <td>921</td>\n",
       "      <td>921</td>\n",
       "      <td>921</td>\n",
       "      <td>921</td>\n",
       "      <td>921</td>\n",
       "      <td>921</td>\n",
       "    </tr>\n",
       "  </tbody>\n",
       "</table>\n",
       "</div>"
      ],
      "text/plain": [
       "            username  date  text  retweet  favorite  subjectivity\n",
       "name                                                             \n",
       "Interworks      3999  3999  3999     3999      3999          3999\n",
       "Slalom          7857  7857  7856     7857      7857          7857\n",
       "USEReady         921   921   921      921       921           921"
      ]
     },
     "execution_count": 3,
     "metadata": {},
     "output_type": "execute_result"
    }
   ],
   "source": [
    "df.groupby('name').count()"
   ]
  },
  {
   "cell_type": "code",
   "execution_count": 17,
   "metadata": {},
   "outputs": [
    {
     "data": {
      "text/html": [
       "<div>\n",
       "<style scoped>\n",
       "    .dataframe tbody tr th:only-of-type {\n",
       "        vertical-align: middle;\n",
       "    }\n",
       "\n",
       "    .dataframe tbody tr th {\n",
       "        vertical-align: top;\n",
       "    }\n",
       "\n",
       "    .dataframe thead th {\n",
       "        text-align: right;\n",
       "    }\n",
       "</style>\n",
       "<table border=\"1\" class=\"dataframe\">\n",
       "  <thead>\n",
       "    <tr style=\"text-align: right;\">\n",
       "      <th></th>\n",
       "      <th>username</th>\n",
       "      <th>date</th>\n",
       "      <th>text</th>\n",
       "      <th>retweet</th>\n",
       "      <th>favorite</th>\n",
       "      <th>subjectivity</th>\n",
       "      <th>name</th>\n",
       "    </tr>\n",
       "  </thead>\n",
       "  <tbody>\n",
       "    <tr>\n",
       "      <th>0</th>\n",
       "      <td>interworks</td>\n",
       "      <td>2020-05-22 23:00:00</td>\n",
       "      <td>If you're adept at #Tableau, you've likely mas...</td>\n",
       "      <td>0</td>\n",
       "      <td>0</td>\n",
       "      <td>0.800</td>\n",
       "      <td>Interworks</td>\n",
       "    </tr>\n",
       "    <tr>\n",
       "      <th>1</th>\n",
       "      <td>InterWorksEU</td>\n",
       "      <td>2020-05-22 20:31:00</td>\n",
       "      <td>Now on the blog, find out how to create custom...</td>\n",
       "      <td>0</td>\n",
       "      <td>0</td>\n",
       "      <td>0.500</td>\n",
       "      <td>Interworks</td>\n",
       "    </tr>\n",
       "    <tr>\n",
       "      <th>2</th>\n",
       "      <td>interworks</td>\n",
       "      <td>2020-05-22 20:00:00</td>\n",
       "      <td>We're thrilled to team up with our partners ov...</td>\n",
       "      <td>0</td>\n",
       "      <td>1</td>\n",
       "      <td>0.575</td>\n",
       "      <td>Interworks</td>\n",
       "    </tr>\n",
       "    <tr>\n",
       "      <th>3</th>\n",
       "      <td>InterWorksEU</td>\n",
       "      <td>2020-05-22 16:31:00</td>\n",
       "      <td>Now that @tableau and @salesforce have teamed ...</td>\n",
       "      <td>0</td>\n",
       "      <td>0</td>\n",
       "      <td>0.650</td>\n",
       "      <td>Interworks</td>\n",
       "    </tr>\n",
       "    <tr>\n",
       "      <th>4</th>\n",
       "      <td>DangerandDread</td>\n",
       "      <td>2020-05-22 15:59:00</td>\n",
       "      <td>If I explained the interworks of the world Del...</td>\n",
       "      <td>0</td>\n",
       "      <td>2</td>\n",
       "      <td>0.750</td>\n",
       "      <td>Interworks</td>\n",
       "    </tr>\n",
       "  </tbody>\n",
       "</table>\n",
       "</div>"
      ],
      "text/plain": [
       "         username                date  \\\n",
       "0      interworks 2020-05-22 23:00:00   \n",
       "1    InterWorksEU 2020-05-22 20:31:00   \n",
       "2      interworks 2020-05-22 20:00:00   \n",
       "3    InterWorksEU 2020-05-22 16:31:00   \n",
       "4  DangerandDread 2020-05-22 15:59:00   \n",
       "\n",
       "                                                text  retweet  favorite  \\\n",
       "0  If you're adept at #Tableau, you've likely mas...        0         0   \n",
       "1  Now on the blog, find out how to create custom...        0         0   \n",
       "2  We're thrilled to team up with our partners ov...        0         1   \n",
       "3  Now that @tableau and @salesforce have teamed ...        0         0   \n",
       "4  If I explained the interworks of the world Del...        0         2   \n",
       "\n",
       "   subjectivity        name  \n",
       "0         0.800  Interworks  \n",
       "1         0.500  Interworks  \n",
       "2         0.575  Interworks  \n",
       "3         0.650  Interworks  \n",
       "4         0.750  Interworks  "
      ]
     },
     "execution_count": 17,
     "metadata": {},
     "output_type": "execute_result"
    }
   ],
   "source": [
    "df=df.dropna()\n",
    "df.reset_index(drop=True)\n",
    "df.head()"
   ]
  },
  {
   "cell_type": "code",
   "execution_count": 26,
   "metadata": {},
   "outputs": [
    {
     "name": "stderr",
     "output_type": "stream",
     "text": [
      "C:\\Users\\Ritesh Dutta\\Anaconda3\\lib\\site-packages\\xlsxwriter\\worksheet.py:912: UserWarning: Ignoring URL 'http://s.engati.com/2jo%20-%20Your%20Customers%20are%20stressed%20out%20enough%20during%20lockdown,%20donâ€™t%20let%20bad%20experiences%20stress%20them%20further.%20Shep%20Hyken,%20Colin%20Shaw,%20Dan%20Gingiss%20and%20Elise%20Quevedo%20are%20here%20to%20help%20you%20create%20great%20Customer%20Experiences.%20Sign%20up%20for%20the%20FREE%20WEBINAR' with link or location/anchor > 255 characters since it exceeds Excel's limit for URLS\n",
      "  force_unicode(url))\n"
     ]
    }
   ],
   "source": [
    "df=df[(df['username']!=\"InterWorks_IT\") & (df['username']!=\"InterWorksANZ\") &(df['username']!=\"InterworksSA\") & (df['username']!=\"interworkscloud\") &(df['username']!=\"InterworksEDM\")&(df['username']!=\"InterWorksAUS\")]\n",
    "df.to_excel(\"tweetf2019.xlsx\",index=False)"
   ]
  },
  {
   "cell_type": "code",
   "execution_count": 3,
   "metadata": {},
   "outputs": [
    {
     "data": {
      "text/plain": [
       "872"
      ]
     },
     "execution_count": 3,
     "metadata": {},
     "output_type": "execute_result"
    }
   ],
   "source": [
    "dfu=df[(df['name']==\"USEReady\")&(df['username']==\"USEReadyInc\")]\n",
    "len(dfu)"
   ]
  },
  {
   "cell_type": "code",
   "execution_count": 4,
   "metadata": {},
   "outputs": [
    {
     "data": {
      "text/plain": [
       "2662"
      ]
     },
     "execution_count": 4,
     "metadata": {},
     "output_type": "execute_result"
    }
   ],
   "source": [
    "dfi=df[((df['username']==\"interworks\")|(df['username']==\"InterWorksEU\"))]\n",
    "len(dfi)"
   ]
  },
  {
   "cell_type": "code",
   "execution_count": 34,
   "metadata": {},
   "outputs": [
    {
     "data": {
      "text/html": [
       "<div>\n",
       "<style scoped>\n",
       "    .dataframe tbody tr th:only-of-type {\n",
       "        vertical-align: middle;\n",
       "    }\n",
       "\n",
       "    .dataframe tbody tr th {\n",
       "        vertical-align: top;\n",
       "    }\n",
       "\n",
       "    .dataframe thead th {\n",
       "        text-align: right;\n",
       "    }\n",
       "</style>\n",
       "<table border=\"1\" class=\"dataframe\">\n",
       "  <thead>\n",
       "    <tr style=\"text-align: right;\">\n",
       "      <th></th>\n",
       "      <th>username</th>\n",
       "      <th>date</th>\n",
       "      <th>text</th>\n",
       "      <th>retweet</th>\n",
       "      <th>favorite</th>\n",
       "      <th>subjectivity</th>\n",
       "      <th>name</th>\n",
       "    </tr>\n",
       "  </thead>\n",
       "  <tbody>\n",
       "    <tr>\n",
       "      <th>10722</th>\n",
       "      <td>____YoungA</td>\n",
       "      <td>2019-07-23 02:00:00</td>\n",
       "      <td>@Slalom @SlalomNYC @FortuneMagazine @GPTW_US #...</td>\n",
       "      <td>0</td>\n",
       "      <td>0</td>\n",
       "      <td>0.0</td>\n",
       "      <td>Slalom</td>\n",
       "    </tr>\n",
       "  </tbody>\n",
       "</table>\n",
       "</div>"
      ],
      "text/plain": [
       "         username                date  \\\n",
       "10722  ____YoungA 2019-07-23 02:00:00   \n",
       "\n",
       "                                                    text  retweet  favorite  \\\n",
       "10722  @Slalom @SlalomNYC @FortuneMagazine @GPTW_US #...        0         0   \n",
       "\n",
       "       subjectivity    name  \n",
       "10722           0.0  Slalom  "
      ]
     },
     "execution_count": 34,
     "metadata": {},
     "output_type": "execute_result"
    }
   ],
   "source": [
    "dfs=df[df['name']==\"Slalom\"]\n",
    "#dfs.groupby('username').count()\n",
    "dfs[dfs['username']==\"\"]"
   ]
  },
  {
   "cell_type": "code",
   "execution_count": 9,
   "metadata": {},
   "outputs": [],
   "source": [
    "dfi.to_csv(\"test.csv\",mode='a',index=False,header=False)"
   ]
  },
  {
   "cell_type": "code",
   "execution_count": 5,
   "metadata": {},
   "outputs": [
    {
     "data": {
      "image/png": "[encoded data removed]",
      "text/plain": [
       "<Figure size 432x288 with 1 Axes>"
      ]
     },
     "metadata": {},
     "output_type": "display_data"
    }
   ],
   "source": [
    "labels = 'Company', 'Employees'\n",
    "sizes = [872,49]\n",
    "explode = (0, 0.1)\n",
    "fig1, ax1 = plt.subplots()\n",
    "ax1.pie(sizes, explode=explode, labels=labels, autopct='%1.1f%%',shadow=True, startangle=90)\n",
    "ax1.axis('equal')\n",
    "plt.show()"
   ]
  },
  {
   "cell_type": "code",
   "execution_count": 6,
   "metadata": {},
   "outputs": [
    {
     "data": {
      "image/png": "[encoded data removed]",
      "text/plain": [
       "<Figure size 432x288 with 1 Axes>"
      ]
     },
     "metadata": {},
     "output_type": "display_data"
    }
   ],
   "source": [
    "labels = 'Company', 'Employees'\n",
    "sizes = [2662,1337]\n",
    "explode = (0, 0.1)\n",
    "fig1, ax1 = plt.subplots()\n",
    "ax1.pie(sizes, explode=explode, labels=labels, autopct='%1.1f%%',shadow=True, startangle=90)\n",
    "ax1.axis('equal')\n",
    "plt.show()"
   ]
  },
  {
   "cell_type": "code",
   "execution_count": 7,
   "metadata": {},
   "outputs": [
    {
     "data": {
      "image/png": "[encoded data removed]",
      "text/plain": [
       "<Figure size 432x288 with 1 Axes>"
      ]
     },
     "metadata": {},
     "output_type": "display_data"
    }
   ],
   "source": [
    "labels = 'Company', 'Employees'\n",
    "sizes = [1441,6416]\n",
    "explode = (0, 0.1)\n",
    "fig1, ax1 = plt.subplots()\n",
    "ax1.pie(sizes, explode=explode, labels=labels, autopct='%1.1f%%',shadow=True, startangle=90)\n",
    "ax1.axis('equal')\n",
    "plt.show()"
   ]
  },
  {
   "cell_type": "code",
   "execution_count": null,
   "metadata": {},
   "outputs": [],
   "source": []
  }
 ],
 "metadata": {
  "kernelspec": {
   "display_name": "Python 3",
   "language": "python",
   "name": "python3"
  },
  "language_info": {
   "codemirror_mode": {
    "name": "ipython",
    "version": 3
   },
   "file_extension": ".py",
   "mimetype": "text/x-python",
   "name": "python",
   "nbconvert_exporter": "python",
   "pygments_lexer": "ipython3",
   "version": "3.6.6"
  }
 },
 "nbformat": 4,
 "nbformat_minor": 2
}
